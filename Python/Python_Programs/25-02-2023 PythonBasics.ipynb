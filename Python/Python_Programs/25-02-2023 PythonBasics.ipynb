{
 "cells": [
  {
   "cell_type": "code",
   "execution_count": 1,
   "id": "2ca357c4",
   "metadata": {},
   "outputs": [
    {
     "name": "stdout",
     "output_type": "stream",
     "text": [
      "Hello World!\n"
     ]
    }
   ],
   "source": [
    "# WAP to print hello world\n",
    "\n",
    "print(\"Hello World!\")"
   ]
  },
  {
   "cell_type": "code",
   "execution_count": 2,
   "id": "83705ca7",
   "metadata": {},
   "outputs": [
    {
     "name": "stdout",
     "output_type": "stream",
     "text": [
      "Enter first number 1\n",
      "Enter second number 2\n",
      "The sum of 1.0 and 2.0 is 3.0\n"
     ]
    }
   ],
   "source": [
    "# WAP to add two number\n",
    "\n",
    "n1 = float(input(\"Enter first number \"))\n",
    "n2 = float(input(\"Enter second number \"))\n",
    "\n",
    "sum = n1 + n2\n",
    "\n",
    "print(\"The sum of {} and {} is {}\". format(n1, n2, sum))"
   ]
  },
  {
   "cell_type": "code",
   "execution_count": 3,
   "id": "26695fd3",
   "metadata": {},
   "outputs": [
    {
     "name": "stdout",
     "output_type": "stream",
     "text": [
      "Enter first number 5\n",
      "Enter second number 2\n",
      "The subtraction of 5.0 and 2.0 is 3.0\n"
     ]
    }
   ],
   "source": [
    "# WAP to subtract two number\n",
    "\n",
    "n1 = float(input(\"Enter first number \"))\n",
    "n2 = float(input(\"Enter second number \"))\n",
    "\n",
    "sub = n1 - n2\n",
    "\n",
    "print(\"The subtraction of {} and {} is {}\". format(n1, n2, sub))"
   ]
  },
  {
   "cell_type": "code",
   "execution_count": 4,
   "id": "60cb3b17",
   "metadata": {},
   "outputs": [
    {
     "name": "stdout",
     "output_type": "stream",
     "text": [
      "Enter first number 2\n",
      "Enter second number 3\n",
      "The multiplication of 2.0 and 3.0 is 6.0\n"
     ]
    }
   ],
   "source": [
    "# WAP to multiply two numbers\n",
    "\n",
    "n1 = float(input(\"Enter first number \"))\n",
    "n2 = float(input(\"Enter second number \"))\n",
    "\n",
    "mul = n1 * n2\n",
    "\n",
    "print(\"The multiplication of {} and {} is {}\". format(n1, n2, mul))"
   ]
  },
  {
   "cell_type": "code",
   "execution_count": 5,
   "id": "c08e9aa7",
   "metadata": {},
   "outputs": [
    {
     "name": "stdout",
     "output_type": "stream",
     "text": [
      "Enter first number 5\n",
      "Enter second number 2\n",
      "The addition of 5.0 and 2.0 is 7.0\n",
      "The substraction of 5.0 and 2.0 is 3.0\n",
      "The multiplication of 5.0 and 2.0 is 10.0\n",
      "The division of 5.0 and 2.0 is 2.5\n",
      "The remainder of 5.0 and 2.0 is 1.0\n",
      "The exponent of 5.0 and 2.0 is 25.0\n"
     ]
    }
   ],
   "source": [
    "# WAP to perform arithmetic operations\n",
    "\n",
    "n1 = float(input(\"Enter first number \"))\n",
    "n2 = float(input(\"Enter second number \"))\n",
    "\n",
    "add = n1 + n2\n",
    "sub = n1 - n2\n",
    "mul = n1 * n2\n",
    "div = n1 / n2\n",
    "rem = n1 % n2\n",
    "exp = n1 ** n2\n",
    "\n",
    "print(\"The addition of {} and {} is {}\". format(n1, n2, add))\n",
    "print(\"The substraction of {} and {} is {}\". format(n1, n2, sub))\n",
    "print(\"The multiplication of {} and {} is {}\".format(n1, n2, mul))\n",
    "print(\"The division of {} and {} is {}\". format(n1, n2, div))\n",
    "print(\"The remainder of {} and {} is {}\". format(n1, n2, rem))\n",
    "print(\"The exponent of {} and {} is {}\".format(n1, n2, exp))\n"
   ]
  },
  {
   "cell_type": "code",
   "execution_count": 6,
   "id": "936ddc78",
   "metadata": {},
   "outputs": [
    {
     "name": "stdout",
     "output_type": "stream",
     "text": [
      "Enter any number 2\n",
      "The cube of 2.0 is 8.0\n"
     ]
    }
   ],
   "source": [
    "# WAP to print cube of a number\n",
    "\n",
    "num = float(input(\"Enter any number \"))\n",
    "\n",
    "cube = num * num * num\n",
    "\n",
    "print(\"The cube of {} is {}\".format(num, cube))"
   ]
  },
  {
   "cell_type": "code",
   "execution_count": 7,
   "id": "df2f89af",
   "metadata": {},
   "outputs": [
    {
     "name": "stdout",
     "output_type": "stream",
     "text": [
      "Enter any number 2\n",
      "The cube of 2.0 is 8.0\n"
     ]
    }
   ],
   "source": [
    "num = float(input(\"Enter any number \"))\n",
    "\n",
    "cube = num ** 3\n",
    "\n",
    "print(\"The cube of {} is {}\".format(num, cube))"
   ]
  },
  {
   "cell_type": "code",
   "execution_count": 8,
   "id": "10c67422",
   "metadata": {},
   "outputs": [
    {
     "name": "stdout",
     "output_type": "stream",
     "text": [
      "Enter first value 12.1\n",
      "Enter second value 10.9\n",
      "12.1  is the largest number \n"
     ]
    }
   ],
   "source": [
    "# WAP to find the largest of two numbers\n",
    "\n",
    "num1 = float(input(\"Enter first value \"))\n",
    "num2 = float(input(\"Enter second value \"))\n",
    "\n",
    "if num1 > num2:\n",
    "    print(num1, \" is the largest number \")\n",
    "else:\n",
    "    print(num2, \" is the largest number \")"
   ]
  },
  {
   "cell_type": "code",
   "execution_count": 9,
   "id": "27beae8c",
   "metadata": {},
   "outputs": [
    {
     "name": "stdout",
     "output_type": "stream",
     "text": [
      "Enter first value 12\n",
      "Enter second value 16\n",
      "Enter third value 10\n",
      "16.0  is the largest\n"
     ]
    }
   ],
   "source": [
    "# WAP to find the largest of three numbers\n",
    "\n",
    "num1 = float(input(\"Enter first value \"))\n",
    "num2 = float(input(\"Enter second value \"))\n",
    "num3 = float(input(\"Enter third value \"))\n",
    "\n",
    "if num1 > num2 and num1 > num3:\n",
    "    print(num1, \" is the largest\")\n",
    "elif num2 > num3 and num2 > num3:\n",
    "    print(num2, \" is the largest\")\n",
    "else:\n",
    "    print(num3, \" is the largest\")"
   ]
  },
  {
   "cell_type": "code",
   "execution_count": 12,
   "id": "7a406ebd",
   "metadata": {},
   "outputs": [
    {
     "name": "stdout",
     "output_type": "stream",
     "text": [
      "Enter the number 6\n",
      "The natural numbers are \n",
      "1\n",
      "2\n",
      "3\n",
      "4\n",
      "5\n",
      "6\n"
     ]
    }
   ],
   "source": [
    "# WAP to print natural number 1 to N\n",
    "\n",
    "n = int(input(\"Enter the number \"))\n",
    "\n",
    "print(\"The natural numbers are \")\n",
    "for i in range(1, n+1):\n",
    "    print(i)"
   ]
  },
  {
   "cell_type": "code",
   "execution_count": 14,
   "id": "e761b63e",
   "metadata": {},
   "outputs": [
    {
     "name": "stdout",
     "output_type": "stream",
     "text": [
      "Enter the year 200\n",
      "Not leap year\n"
     ]
    }
   ],
   "source": [
    "# WAP to check leap year\n",
    "\n",
    "year = int(input(\"Enter the year \"))\n",
    "\n",
    "if (year % 400 == 0) and (year % 100 == 0):\n",
    "    print('Leap Year')\n",
    "elif (year % 4 == 0) and (year % 100!=0):\n",
    "    print('Leap Year')\n",
    "else:\n",
    "    print('Not leap year')"
   ]
  },
  {
   "cell_type": "code",
   "execution_count": 16,
   "id": "36aaf2af",
   "metadata": {},
   "outputs": [
    {
     "name": "stdout",
     "output_type": "stream",
     "text": [
      "Enter the year 200\n",
      "Not leap year\n"
     ]
    }
   ],
   "source": [
    "year = int(input(\"Enter the year \"))\n",
    "\n",
    "if (year % 400 == 0) or ((year % 4 == 0) and (year % 100 != 0)):\n",
    "    print('leap year')\n",
    "else:\n",
    "    print('Not leap year')"
   ]
  },
  {
   "cell_type": "code",
   "execution_count": 17,
   "id": "7eb0a033",
   "metadata": {},
   "outputs": [
    {
     "name": "stdout",
     "output_type": "stream",
     "text": [
      "Enter the number 3\n",
      "Odd number \n"
     ]
    }
   ],
   "source": [
    "# WAP to check even or odd number\n",
    "\n",
    "num = int(input(\"Enter the number \"))\n",
    "if num % 2 == 0:\n",
    "    print(\"Even number \")\n",
    "else:\n",
    "    print(\"Odd number \")"
   ]
  },
  {
   "cell_type": "code",
   "execution_count": 23,
   "id": "75ac4610",
   "metadata": {},
   "outputs": [
    {
     "name": "stdout",
     "output_type": "stream",
     "text": [
      "Even numbers from 1 to 100 are\n",
      "2,4,6,8,10,12,14,16,18,20,22,24,26,28,30,32,34,36,38,40,42,44,46,48,50,52,54,56,58,60,62,64,66,68,70,72,74,76,78,80,82,84,86,88,90,92,94,96,98,100,"
     ]
    }
   ],
   "source": [
    "# WAP to print even number from 1 to 100\n",
    "\n",
    "print(\"Even numbers from 1 to 100 are\")\n",
    "for i in range(1, 101):\n",
    "    if i % 2 == 0:\n",
    "        print(i, end =',')"
   ]
  },
  {
   "cell_type": "code",
   "execution_count": 22,
   "id": "67813c02",
   "metadata": {},
   "outputs": [
    {
     "name": "stdout",
     "output_type": "stream",
     "text": [
      "Odd numbers from 1 to 100 are \n",
      "1,3,5,7,9,11,13,15,17,19,21,23,25,27,29,31,33,35,37,39,41,43,45,47,49,51,53,55,57,59,61,63,65,67,69,71,73,75,77,79,81,83,85,87,89,91,93,95,97,99,"
     ]
    }
   ],
   "source": [
    "# WAP to find odd numbers from 1 to 100\n",
    "\n",
    "print(\"Odd numbers from 1 to 100 are \")\n",
    "\n",
    "for i in range(1,101):\n",
    "    if i % 2 != 0:\n",
    "        print(i, end= ',')"
   ]
  },
  {
   "cell_type": "code",
   "execution_count": 25,
   "id": "f31aa77f",
   "metadata": {},
   "outputs": [
    {
     "name": "stdout",
     "output_type": "stream",
     "text": [
      "Enter maximum value 6\n",
      "Enter minimum value -2\n",
      "Negative numbers between 6 and -2 is\n",
      "-2,-1,"
     ]
    }
   ],
   "source": [
    "# WAP to print negative number from 1 to 100\n",
    "\n",
    "max = int(input(\"Enter maximum value \"))\n",
    "min = int(input(\"Enter minimum value \"))\n",
    "\n",
    "print(\"Negative numbers between {} and {} is\".format(max, min))\n",
    "for i in range(min, max +1):\n",
    "    if i < 0:\n",
    "        print(i, end =',')"
   ]
  },
  {
   "cell_type": "code",
   "execution_count": 33,
   "id": "fe6b8178",
   "metadata": {},
   "outputs": [
    {
     "name": "stdout",
     "output_type": "stream",
     "text": [
      "Enter maximum value 5\n",
      "Enter minimum value -2\n",
      "Positive numbers between 5 and -2 is\n",
      "0,1,2,3,4,5,"
     ]
    }
   ],
   "source": [
    "# WAP to print positive numbers in a range\n",
    "\n",
    "max = int(input(\"Enter maximum value \"))\n",
    "min = int(input(\"Enter minimum value \"))\n",
    "\n",
    "print(\"Positive numbers between {} and {} is\".format(max, min))\n",
    "\n",
    "for i in range(min, max + 1):\n",
    "    if i >= 0:\n",
    "        print(i, end=',')"
   ]
  },
  {
   "cell_type": "code",
   "execution_count": 36,
   "id": "aedfc9ed",
   "metadata": {},
   "outputs": [
    {
     "name": "stdout",
     "output_type": "stream",
     "text": [
      "Enter the number -9\n",
      "Negative number \n"
     ]
    }
   ],
   "source": [
    "# WAP to find positive, negative or zero\n",
    "\n",
    "num = int(input(\"Enter the number \"))\n",
    "\n",
    "if num > 0:\n",
    "    print('Positive number ')\n",
    "elif num < 0:\n",
    "    print('Negative number ')\n",
    "else:\n",
    "    print('Zero')"
   ]
  },
  {
   "cell_type": "code",
   "execution_count": 37,
   "id": "a9db2402",
   "metadata": {},
   "outputs": [
    {
     "name": "stdout",
     "output_type": "stream",
     "text": [
      "Enter actual costs 123\n",
      "Enter sale costs 100\n",
      "Loss\n"
     ]
    }
   ],
   "source": [
    "# WAP to find profit or loss\n",
    "\n",
    "actual_cost = float(input(\"Enter actual costs \"))\n",
    "sale_cost = float(input(\"Enter sale costs \"))\n",
    "\n",
    "if actual_cost > sale_cost:\n",
    "    print('Loss')\n",
    "elif actual_cost < sale_cost:\n",
    "    print('Profit')\n",
    "else:\n",
    "    print(\"No profit No loss\")"
   ]
  },
  {
   "cell_type": "code",
   "execution_count": 38,
   "id": "a5aa48ce",
   "metadata": {},
   "outputs": [
    {
     "name": "stdout",
     "output_type": "stream",
     "text": [
      "Enter the number 4\n",
      "Square of 4 is 16\n"
     ]
    }
   ],
   "source": [
    "# WAP to find square of a number \n",
    "\n",
    "num = int(input(\"Enter the number \"))\n",
    "\n",
    "sqr = num ** 2\n",
    "\n",
    "print(\"Square of {} is {}\".format(num, sqr))"
   ]
  },
  {
   "cell_type": "code",
   "execution_count": 40,
   "id": "3eecc9b9",
   "metadata": {},
   "outputs": [
    {
     "name": "stdout",
     "output_type": "stream",
     "text": [
      "Enter the number 4\n",
      "Square root of 4 is 2.0\n"
     ]
    }
   ],
   "source": [
    "# WAP to find square root of a number\n",
    "\n",
    "import math\n",
    "\n",
    "num = int(input(\"Enter the number \"))\n",
    "sqr = math.sqrt(num)\n",
    "\n",
    "print(\"Square root of {} is {}\". format(num, sqr))\n"
   ]
  },
  {
   "cell_type": "code",
   "execution_count": 45,
   "id": "e85c5b3b",
   "metadata": {},
   "outputs": [
    {
     "name": "stdout",
     "output_type": "stream",
     "text": [
      "Enter the number 20\n",
      "1,2,4,5,10,20,"
     ]
    }
   ],
   "source": [
    "# WAP to find all divisors of a number\n",
    "\n",
    "num = int(input(\"Enter the number \"))\n",
    "\n",
    "for i in range(1, num +1):\n",
    "    if num%i==0:\n",
    "        print(i, end =',')"
   ]
  },
  {
   "cell_type": "code",
   "execution_count": 50,
   "id": "68f02c5e",
   "metadata": {},
   "outputs": [
    {
     "name": "stdout",
     "output_type": "stream",
     "text": [
      "Enter principal amount 500000\n",
      "Enter rate of interest 12.5\n",
      "Enter number of years 7\n",
      "The compound interest is  40860754199218.75\n"
     ]
    }
   ],
   "source": [
    "# WAP to find the compound interest\n",
    "\n",
    "principal_amount = float(input(\"Enter principal amount \"))\n",
    "rate_of_interest = float(input(\"Enter rate of interest \"))\n",
    "time = float(input(\"Enter number of years \"))\n",
    "\n",
    "future_ci = principal_amount*(math.pow((1 + rate_of_interest), time))\n",
    "\n",
    "compound_interest = future_ci - principal_amount\n",
    "\n",
    "print(\"The compound interest is \",compound_interest)"
   ]
  },
  {
   "cell_type": "code",
   "execution_count": 52,
   "id": "bf346c43",
   "metadata": {},
   "outputs": [
    {
     "name": "stdout",
     "output_type": "stream",
     "text": [
      "Enter the number 66\n",
      "Not divisible by 5 and 11\n"
     ]
    }
   ],
   "source": [
    "# WAP to check number is divisible by 5 and 11\n",
    "\n",
    "num = int(input(\"Enter the number \"))\n",
    "\n",
    "if (num % 5 == 0) and (num % 11 == 0):\n",
    "    print(\"Divisible by 5 and 11\")\n",
    "else:\n",
    "    print(\"Not divisible by 5 and 11\")"
   ]
  },
  {
   "cell_type": "code",
   "execution_count": 2,
   "id": "aa576606",
   "metadata": {},
   "outputs": [
    {
     "name": "stdout",
     "output_type": "stream",
     "text": [
      "Enter the number 2\n",
      "Enter the power 3\n",
      "2  to the power  3  is 8\n"
     ]
    }
   ],
   "source": [
    "# WAP to find power of a number\n",
    "\n",
    "num = int(input(\"Enter the number \"))\n",
    "power = int(input(\"Enter the power \"))\n",
    "\n",
    "res = num ** power\n",
    "\n",
    "print(num, \" to the power \", power, \" is\", res)"
   ]
  },
  {
   "cell_type": "code",
   "execution_count": 3,
   "id": "4b4912ba",
   "metadata": {},
   "outputs": [
    {
     "name": "stdout",
     "output_type": "stream",
     "text": [
      "Enter the number 5\n",
      "Enter the power 3\n",
      "5  to the power  3  is 125.0\n"
     ]
    }
   ],
   "source": [
    "import math\n",
    "\n",
    "num = int(input(\"Enter the number \"))\n",
    "power = int(input(\"Enter the power \"))\n",
    "\n",
    "res = math.pow(num, power)\n",
    "\n",
    "print(num, \" to the power \", power, \" is\", res)"
   ]
  },
  {
   "cell_type": "code",
   "execution_count": 4,
   "id": "13a88217",
   "metadata": {},
   "outputs": [
    {
     "name": "stdout",
     "output_type": "stream",
     "text": [
      "Enter the number 5\n",
      "Multiplication table of 5 is\n",
      "5 * 1  =  5\n",
      "5 * 2  =  10\n",
      "5 * 3  =  15\n",
      "5 * 4  =  20\n",
      "5 * 5  =  25\n",
      "5 * 6  =  30\n",
      "5 * 7  =  35\n",
      "5 * 8  =  40\n",
      "5 * 9  =  45\n",
      "5 * 10  =  50\n"
     ]
    }
   ],
   "source": [
    "# WAP to multiplication table\n",
    "\n",
    "num = int(input(\"Enter the number \"))\n",
    "\n",
    "print(\"Multiplication table of {} is\". format(num))\n",
    "for i in range(1,11):\n",
    "    print(num, '*', i, ' = ', num * i)"
   ]
  },
  {
   "cell_type": "code",
   "execution_count": null,
   "id": "9aa1e11d",
   "metadata": {},
   "outputs": [],
   "source": []
  },
  {
   "cell_type": "code",
   "execution_count": null,
   "id": "27e8e150",
   "metadata": {},
   "outputs": [],
   "source": []
  }
 ],
 "metadata": {
  "kernelspec": {
   "display_name": "Python 3 (ipykernel)",
   "language": "python",
   "name": "python3"
  },
  "language_info": {
   "codemirror_mode": {
    "name": "ipython",
    "version": 3
   },
   "file_extension": ".py",
   "mimetype": "text/x-python",
   "name": "python",
   "nbconvert_exporter": "python",
   "pygments_lexer": "ipython3",
   "version": "3.9.12"
  }
 },
 "nbformat": 4,
 "nbformat_minor": 5
}
